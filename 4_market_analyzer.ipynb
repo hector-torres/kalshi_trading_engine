{
 "cells": [
  {
   "metadata": {},
   "cell_type": "markdown",
   "source": "# Market Analyzer",
   "id": "c509f3c0c134431e"
  },
  {
   "cell_type": "code",
   "execution_count": null,
   "id": "initial_id",
   "metadata": {
    "collapsed": true
   },
   "outputs": [],
   "source": [
    "# todo: imports\n",
    "import pandas as pd\n",
    "import plotly.graph_objects as go\n"
   ]
  },
  {
   "metadata": {},
   "cell_type": "code",
   "outputs": [],
   "execution_count": null,
   "source": [
    "# todo: file reader\n",
    "df = pd.read_csv('filepath')"
   ],
   "id": "964b4b462dcc2867"
  },
  {
   "metadata": {},
   "cell_type": "code",
   "outputs": [],
   "execution_count": null,
   "source": [
    "# Filter for valid price data\n",
    "filtered_df = df[df['price_close'].notna()]\n",
    "\n",
    "# Create the figure\n",
    "fig = go.Figure()\n",
    "\n",
    "# Plot one trace per ticker with combined title and ticker in legend\n",
    "for ticker in filtered_df['ticker'].unique():\n",
    "    ticker_df = filtered_df[filtered_df['ticker'] == ticker]\n",
    "    title = ticker_df['title'].iloc[0] if not ticker_df['title'].isnull().all() else \"No title\"\n",
    "\n",
    "    fig.add_trace(go.Scatter(\n",
    "        x=ticker_df.index,\n",
    "        y=ticker_df['price_close'],\n",
    "        mode='lines+markers',\n",
    "        name=f\"{title} ({ticker})\",\n",
    "        line=dict(width=2, shape='hvh'),  # ←\t'vh' — vertical → horizontal steps  :  'hvh' — creates stair-steps  :  'vhv' — sharp Z-shaped steps\n",
    "        hovertemplate=(\n",
    "            f'<b>Title:</b> {title}<br>' +\n",
    "            f'<b>Ticker:</b> {ticker}<br>' +\n",
    "            '<b>Time:</b> %{x}<br>' +\n",
    "            '<b>Price:</b> %{y:.2f}<br>' +\n",
    "            '<extra></extra>'\n",
    "        )\n",
    "    ))\n",
    "\n",
    "# Layout settings\n",
    "fig.update_layout(\n",
    "    template='plotly_dark',\n",
    "    title='Price Line Chart with Title and Ticker in Legend',\n",
    "    xaxis=dict(title='Time'),\n",
    "    yaxis=dict(title='Price', range=[0, 100]),\n",
    "    showlegend=True,\n",
    "    margin=dict(t=40, b=40, l=40, r=40),\n",
    "    height=600\n",
    ")\n",
    "\n",
    "fig.show()"
   ],
   "id": "eb6bf8799a45b8c6"
  }
 ],
 "metadata": {
  "kernelspec": {
   "display_name": "Python 3",
   "language": "python",
   "name": "python3"
  },
  "language_info": {
   "codemirror_mode": {
    "name": "ipython",
    "version": 2
   },
   "file_extension": ".py",
   "mimetype": "text/x-python",
   "name": "python",
   "nbconvert_exporter": "python",
   "pygments_lexer": "ipython2",
   "version": "2.7.6"
  }
 },
 "nbformat": 4,
 "nbformat_minor": 5
}
