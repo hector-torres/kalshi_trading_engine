{
 "cells": [
  {
   "metadata": {},
   "cell_type": "markdown",
   "source": [
    "# Kalshi Market Extractor\n",
    "\n",
    "This notebook is a proof-of-concept for extracting series, event, and market data from the Kalshi predicition market (hereafter refered to as \"market data\").\n",
    "\n",
    "This is the first step required in order to create models to backtest event contracts on the Kalshi prediction market against real-world news events, create automated trading systems, etc.\n",
    "\n",
    "This notebook pulls only the markets that are open each daily.\n",
    "\n",
    "The architecture will be as follows:\n",
    "* pull data for all series from Kalshi\n",
    "* filter series for politics, economics, financials, and tech & science\n",
    "* extract events from selected series\n",
    "* extract event title and summary text\n",
    "* extract intraday price movement data\n",
    "* create features using text chunking, entity extraction, etc.\n",
    "\n",
    "* The following steps require further solutioning:\n",
    "* create headline aggregator\n",
    "* select specific contracts for testing based on availbility of key dates where intraday price movements exceed one standard deviation from daily distribution\n",
    "* parse headlines from headline aggregator from those dates\n",
    "* use contract features from selected contracts to test against headlines from selected high-movement days\n",
    "* run same analyses across multiple dates and across multiple contracts\n",
    "* run statistical analysis to determine factors that can be used to create forecasting model\n",
    "* backtest model against open-ended range of dates of collected headlines to predict price movements, and compare against actual prices\n",
    "\n",
    "\n",
    "| series        |  event                  |  market |\n",
    "|---------------|-------------------------|----------------------|\n",
    "| KXFEDDECISION |  KXFEDDECISION-25MAY    |  KXFEDDECISION-25MAY-H0 |\n",
    "| Fed Decision  | Fed Decision - May 2025 |  Fed Decision - May 2025 - No Change |"
   ],
   "id": "8a77807f92f26ee"
  },
  {
   "metadata": {
    "ExecuteTime": {
     "end_time": "2025-05-17T15:45:04.566557Z",
     "start_time": "2025-05-17T15:45:04.562898Z"
    }
   },
   "cell_type": "code",
   "source": [
    "from datetime import datetime\n",
    "import requests\n",
    "import time\n",
    "import pandas as pd\n",
    "import sys\n",
    "import spacy\n",
    "import subprocess"
   ],
   "id": "fbc121e30a2defb3",
   "outputs": [],
   "execution_count": 23
  },
  {
   "metadata": {},
   "cell_type": "markdown",
   "source": [
    "## From API\n",
    "\n",
    "This cell takes care of setting constants, reusable parameters, and other code preparation steps."
   ],
   "id": "c6db1a6f7f03227c"
  },
  {
   "metadata": {},
   "cell_type": "markdown",
   "source": "This cell calls the events API, requesting open events, limit 200, with their markets.",
   "id": "78425d288066d21c"
  },
  {
   "metadata": {
    "ExecuteTime": {
     "end_time": "2025-05-17T15:35:21.892246Z",
     "start_time": "2025-05-17T15:35:20.112467Z"
    }
   },
   "cell_type": "code",
   "source": [
    "url = \"https://api.elections.kalshi.com/trade-api/v2/events?limit=200&status=open&with_nested_markets=true\"\n",
    "\n",
    "headers = {\"accept\": \"application/json\"}\n",
    "\n",
    "response = requests.get(url, headers=headers)\n",
    "\n",
    "response_json = response.json()"
   ],
   "id": "1cf9b2503a349088",
   "outputs": [],
   "execution_count": 2
  },
  {
   "metadata": {},
   "cell_type": "markdown",
   "source": "This cell saves all events into a list.",
   "id": "25d0401ac5561422"
  },
  {
   "metadata": {
    "ExecuteTime": {
     "end_time": "2025-05-17T15:35:30.703398Z",
     "start_time": "2025-05-17T15:35:30.699653Z"
    }
   },
   "cell_type": "code",
   "source": [
    "events = []\n",
    "\n",
    "for response in response_json['events']:\n",
    "    events.append(response)"
   ],
   "id": "a5e7522fb90506de",
   "outputs": [],
   "execution_count": 3
  },
  {
   "metadata": {},
   "cell_type": "markdown",
   "source": "This cell uses the API's cursor object to determine if there are additional pages of records - if yes, will continue to call the API until no cursor object is returned (i.e., there are no further records)",
   "id": "ca367ea36a643fc2"
  },
  {
   "metadata": {
    "ExecuteTime": {
     "end_time": "2025-05-17T15:35:47.387772Z",
     "start_time": "2025-05-17T15:35:37.537314Z"
    }
   },
   "cell_type": "code",
   "source": [
    "while response_json['cursor']:\n",
    "    cursor = response_json['cursor']\n",
    "    url = 'https://api.elections.kalshi.com/trade-api/v2/events?limit=200&cursor=' + cursor + '&status=open&with_nested_markets=true'\n",
    "    response = requests.get(url, headers=headers)\n",
    "    response_json = response.json()\n",
    "    for response in response_json['events']:\n",
    "        events.append(response)\n",
    "    time.sleep(.10)"
   ],
   "id": "74d144ac256b163b",
   "outputs": [],
   "execution_count": 4
  },
  {
   "metadata": {
    "ExecuteTime": {
     "end_time": "2025-05-17T15:35:59.845576Z",
     "start_time": "2025-05-17T15:35:59.843115Z"
    }
   },
   "cell_type": "code",
   "source": "print(len(events))",
   "id": "1de2bfa5ecafeebd",
   "outputs": [
    {
     "name": "stdout",
     "output_type": "stream",
     "text": [
      "1314\n"
     ]
    }
   ],
   "execution_count": 5
  },
  {
   "metadata": {
    "ExecuteTime": {
     "end_time": "2025-05-17T15:38:32.078750Z",
     "start_time": "2025-05-17T15:38:31.696226Z"
    }
   },
   "cell_type": "code",
   "source": [
    "events_df = pd.DataFrame(events)\n",
    "\n",
    "# Flatten the nested 'markets' field\n",
    "markets_df = pd.json_normalize(\n",
    "    events,\n",
    "    record_path=['markets'],\n",
    "    meta=['event_ticker', 'series_ticker', 'title'],\n",
    "    record_prefix='market_',\n",
    "    meta_prefix='event_'\n",
    ")\n",
    "\n",
    "# Merge the events and markets DataFrames on the matching event ticker\n",
    "df = markets_df.merge(\n",
    "    events_df,\n",
    "    how='left',\n",
    "    left_on='event_event_ticker',\n",
    "    right_on='event_ticker',\n",
    "    suffixes=('_market', '_event')\n",
    ")\n",
    "# Reorder columns to move 'event_title' to the front\n",
    "# Reorder columns: 'title' first, 'sub_title' second, followed by the rest\n",
    "cols = ['title', 'sub_title', 'market_rules_primary', 'market_rules_secondary'] + [col for col in df.columns if col not in ['title', 'sub_title', 'market_rules_primary', 'market_rules_secondary']]\n",
    "\n",
    "df = df[cols]\n",
    "\n",
    "# Drop columns that start with 'market_custom_strike'\n",
    "df = df.loc[:, ~df.columns.str.startswith('market_custom_strike')]\n"
   ],
   "id": "de9ef11fe8b876d9",
   "outputs": [],
   "execution_count": 6
  },
  {
   "metadata": {
    "ExecuteTime": {
     "end_time": "2025-05-17T15:38:35.268580Z",
     "start_time": "2025-05-17T15:38:35.263023Z"
    }
   },
   "cell_type": "code",
   "source": "df.shape",
   "id": "878ee398a25fb73e",
   "outputs": [
    {
     "data": {
      "text/plain": [
       "(9169, 54)"
      ]
     },
     "execution_count": 7,
     "metadata": {},
     "output_type": "execute_result"
    }
   ],
   "execution_count": 7
  },
  {
   "metadata": {
    "ExecuteTime": {
     "end_time": "2025-05-17T15:38:42.949908Z",
     "start_time": "2025-05-17T15:38:42.923423Z"
    }
   },
   "cell_type": "code",
   "source": "df.head()",
   "id": "7df980ae9fcc69d2",
   "outputs": [
    {
     "data": {
      "text/plain": [
       "                                               title    sub_title  \\\n",
       "0  Will a humanoid robot walk on Mars before a hu...  Before 2035   \n",
       "1  Which of these Latin America leaders will leav...  Before 2035   \n",
       "2  Which of these Latin America leaders will leav...  Before 2035   \n",
       "3  Which of these Latin America leaders will leav...  Before 2035   \n",
       "4  Which of these Latin America leaders will leav...  Before 2035   \n",
       "\n",
       "                                market_rules_primary  \\\n",
       "0  If a humanoid robot walks on Mars before a hum...   \n",
       "1  If President of Venezuela is the first leader ...   \n",
       "2  If President of El Salvador is the first leade...   \n",
       "3  If the President of Brazil is the first leader...   \n",
       "4  If President of the Dominican Republic is the ...   \n",
       "\n",
       "                              market_rules_secondary          market_ticker  \\\n",
       "0                                                            KXROBOTMARS-35   \n",
       "1  An announcement that a leader will leave their...    KXLALEADEROUT-35-NM   \n",
       "2  An announcement that a leader will leave their...    KXLALEADEROUT-35-NB   \n",
       "3  An announcement that a leader will leave their...  KXLALEADEROUT-35-LULA   \n",
       "4  An announcement that a leader will leave their...    KXLALEADEROUT-35-LA   \n",
       "\n",
       "  market_event_ticker market_market_type market_title  \\\n",
       "0      KXROBOTMARS-35             binary                \n",
       "1    KXLALEADEROUT-35             binary                \n",
       "2    KXLALEADEROUT-35             binary                \n",
       "3    KXLALEADEROUT-35             binary                \n",
       "4    KXLALEADEROUT-35             binary                \n",
       "\n",
       "                          market_subtitle       market_yes_sub_title  ...  \\\n",
       "0                                                        Before 2035  ...   \n",
       "1               :: President of Venezuela             Nicolás Maduro  ...   \n",
       "2             :: President of El Salvador               Nayib Bukele  ...   \n",
       "3                  :: President of Brazil  Luiz Inácio Lula da Silva  ...   \n",
       "4  :: President of the Dominican Republic              Luis Abinader  ...   \n",
       "\n",
       "  event_series_ticker                                        event_title  \\\n",
       "0         KXROBOTMARS  Will a humanoid robot walk on Mars before a hu...   \n",
       "1       KXLALEADEROUT  Which of these Latin America leaders will leav...   \n",
       "2       KXLALEADEROUT  Which of these Latin America leaders will leav...   \n",
       "3       KXLALEADEROUT  Which of these Latin America leaders will leav...   \n",
       "4       KXLALEADEROUT  Which of these Latin America leaders will leav...   \n",
       "\n",
       "       event_ticker  series_ticker collateral_return_type mutually_exclusive  \\\n",
       "0    KXROBOTMARS-35    KXROBOTMARS                                     False   \n",
       "1  KXLALEADEROUT-35  KXLALEADEROUT                 MECNET               True   \n",
       "2  KXLALEADEROUT-35  KXLALEADEROUT                 MECNET               True   \n",
       "3  KXLALEADEROUT-35  KXLALEADEROUT                 MECNET               True   \n",
       "4  KXLALEADEROUT-35  KXLALEADEROUT                 MECNET               True   \n",
       "\n",
       "                 category                                            markets  \\\n",
       "0  Science and Technology  [{'ticker': 'KXROBOTMARS-35', 'event_ticker': ...   \n",
       "1                Politics  [{'ticker': 'KXLALEADEROUT-35-NM', 'event_tick...   \n",
       "2                Politics  [{'ticker': 'KXLALEADEROUT-35-NM', 'event_tick...   \n",
       "3                Politics  [{'ticker': 'KXLALEADEROUT-35-NM', 'event_tick...   \n",
       "4                Politics  [{'ticker': 'KXLALEADEROUT-35-NM', 'event_tick...   \n",
       "\n",
       "  strike_date  strike_period  \n",
       "0         NaN            NaN  \n",
       "1         NaN            NaN  \n",
       "2         NaN            NaN  \n",
       "3         NaN            NaN  \n",
       "4         NaN            NaN  \n",
       "\n",
       "[5 rows x 54 columns]"
      ],
      "text/html": [
       "<div>\n",
       "<style scoped>\n",
       "    .dataframe tbody tr th:only-of-type {\n",
       "        vertical-align: middle;\n",
       "    }\n",
       "\n",
       "    .dataframe tbody tr th {\n",
       "        vertical-align: top;\n",
       "    }\n",
       "\n",
       "    .dataframe thead th {\n",
       "        text-align: right;\n",
       "    }\n",
       "</style>\n",
       "<table border=\"1\" class=\"dataframe\">\n",
       "  <thead>\n",
       "    <tr style=\"text-align: right;\">\n",
       "      <th></th>\n",
       "      <th>title</th>\n",
       "      <th>sub_title</th>\n",
       "      <th>market_rules_primary</th>\n",
       "      <th>market_rules_secondary</th>\n",
       "      <th>market_ticker</th>\n",
       "      <th>market_event_ticker</th>\n",
       "      <th>market_market_type</th>\n",
       "      <th>market_title</th>\n",
       "      <th>market_subtitle</th>\n",
       "      <th>market_yes_sub_title</th>\n",
       "      <th>...</th>\n",
       "      <th>event_series_ticker</th>\n",
       "      <th>event_title</th>\n",
       "      <th>event_ticker</th>\n",
       "      <th>series_ticker</th>\n",
       "      <th>collateral_return_type</th>\n",
       "      <th>mutually_exclusive</th>\n",
       "      <th>category</th>\n",
       "      <th>markets</th>\n",
       "      <th>strike_date</th>\n",
       "      <th>strike_period</th>\n",
       "    </tr>\n",
       "  </thead>\n",
       "  <tbody>\n",
       "    <tr>\n",
       "      <th>0</th>\n",
       "      <td>Will a humanoid robot walk on Mars before a hu...</td>\n",
       "      <td>Before 2035</td>\n",
       "      <td>If a humanoid robot walks on Mars before a hum...</td>\n",
       "      <td></td>\n",
       "      <td>KXROBOTMARS-35</td>\n",
       "      <td>KXROBOTMARS-35</td>\n",
       "      <td>binary</td>\n",
       "      <td></td>\n",
       "      <td></td>\n",
       "      <td>Before 2035</td>\n",
       "      <td>...</td>\n",
       "      <td>KXROBOTMARS</td>\n",
       "      <td>Will a humanoid robot walk on Mars before a hu...</td>\n",
       "      <td>KXROBOTMARS-35</td>\n",
       "      <td>KXROBOTMARS</td>\n",
       "      <td></td>\n",
       "      <td>False</td>\n",
       "      <td>Science and Technology</td>\n",
       "      <td>[{'ticker': 'KXROBOTMARS-35', 'event_ticker': ...</td>\n",
       "      <td>NaN</td>\n",
       "      <td>NaN</td>\n",
       "    </tr>\n",
       "    <tr>\n",
       "      <th>1</th>\n",
       "      <td>Which of these Latin America leaders will leav...</td>\n",
       "      <td>Before 2035</td>\n",
       "      <td>If President of Venezuela is the first leader ...</td>\n",
       "      <td>An announcement that a leader will leave their...</td>\n",
       "      <td>KXLALEADEROUT-35-NM</td>\n",
       "      <td>KXLALEADEROUT-35</td>\n",
       "      <td>binary</td>\n",
       "      <td></td>\n",
       "      <td>:: President of Venezuela</td>\n",
       "      <td>Nicolás Maduro</td>\n",
       "      <td>...</td>\n",
       "      <td>KXLALEADEROUT</td>\n",
       "      <td>Which of these Latin America leaders will leav...</td>\n",
       "      <td>KXLALEADEROUT-35</td>\n",
       "      <td>KXLALEADEROUT</td>\n",
       "      <td>MECNET</td>\n",
       "      <td>True</td>\n",
       "      <td>Politics</td>\n",
       "      <td>[{'ticker': 'KXLALEADEROUT-35-NM', 'event_tick...</td>\n",
       "      <td>NaN</td>\n",
       "      <td>NaN</td>\n",
       "    </tr>\n",
       "    <tr>\n",
       "      <th>2</th>\n",
       "      <td>Which of these Latin America leaders will leav...</td>\n",
       "      <td>Before 2035</td>\n",
       "      <td>If President of El Salvador is the first leade...</td>\n",
       "      <td>An announcement that a leader will leave their...</td>\n",
       "      <td>KXLALEADEROUT-35-NB</td>\n",
       "      <td>KXLALEADEROUT-35</td>\n",
       "      <td>binary</td>\n",
       "      <td></td>\n",
       "      <td>:: President of El Salvador</td>\n",
       "      <td>Nayib Bukele</td>\n",
       "      <td>...</td>\n",
       "      <td>KXLALEADEROUT</td>\n",
       "      <td>Which of these Latin America leaders will leav...</td>\n",
       "      <td>KXLALEADEROUT-35</td>\n",
       "      <td>KXLALEADEROUT</td>\n",
       "      <td>MECNET</td>\n",
       "      <td>True</td>\n",
       "      <td>Politics</td>\n",
       "      <td>[{'ticker': 'KXLALEADEROUT-35-NM', 'event_tick...</td>\n",
       "      <td>NaN</td>\n",
       "      <td>NaN</td>\n",
       "    </tr>\n",
       "    <tr>\n",
       "      <th>3</th>\n",
       "      <td>Which of these Latin America leaders will leav...</td>\n",
       "      <td>Before 2035</td>\n",
       "      <td>If the President of Brazil is the first leader...</td>\n",
       "      <td>An announcement that a leader will leave their...</td>\n",
       "      <td>KXLALEADEROUT-35-LULA</td>\n",
       "      <td>KXLALEADEROUT-35</td>\n",
       "      <td>binary</td>\n",
       "      <td></td>\n",
       "      <td>:: President of Brazil</td>\n",
       "      <td>Luiz Inácio Lula da Silva</td>\n",
       "      <td>...</td>\n",
       "      <td>KXLALEADEROUT</td>\n",
       "      <td>Which of these Latin America leaders will leav...</td>\n",
       "      <td>KXLALEADEROUT-35</td>\n",
       "      <td>KXLALEADEROUT</td>\n",
       "      <td>MECNET</td>\n",
       "      <td>True</td>\n",
       "      <td>Politics</td>\n",
       "      <td>[{'ticker': 'KXLALEADEROUT-35-NM', 'event_tick...</td>\n",
       "      <td>NaN</td>\n",
       "      <td>NaN</td>\n",
       "    </tr>\n",
       "    <tr>\n",
       "      <th>4</th>\n",
       "      <td>Which of these Latin America leaders will leav...</td>\n",
       "      <td>Before 2035</td>\n",
       "      <td>If President of the Dominican Republic is the ...</td>\n",
       "      <td>An announcement that a leader will leave their...</td>\n",
       "      <td>KXLALEADEROUT-35-LA</td>\n",
       "      <td>KXLALEADEROUT-35</td>\n",
       "      <td>binary</td>\n",
       "      <td></td>\n",
       "      <td>:: President of the Dominican Republic</td>\n",
       "      <td>Luis Abinader</td>\n",
       "      <td>...</td>\n",
       "      <td>KXLALEADEROUT</td>\n",
       "      <td>Which of these Latin America leaders will leav...</td>\n",
       "      <td>KXLALEADEROUT-35</td>\n",
       "      <td>KXLALEADEROUT</td>\n",
       "      <td>MECNET</td>\n",
       "      <td>True</td>\n",
       "      <td>Politics</td>\n",
       "      <td>[{'ticker': 'KXLALEADEROUT-35-NM', 'event_tick...</td>\n",
       "      <td>NaN</td>\n",
       "      <td>NaN</td>\n",
       "    </tr>\n",
       "  </tbody>\n",
       "</table>\n",
       "<p>5 rows × 54 columns</p>\n",
       "</div>"
      ]
     },
     "execution_count": 8,
     "metadata": {},
     "output_type": "execute_result"
    }
   ],
   "execution_count": 8
  },
  {
   "metadata": {},
   "cell_type": "markdown",
   "source": "This cell searches for duplicate markets - none are expected.",
   "id": "2683abf89c3f55b1"
  },
  {
   "metadata": {
    "ExecuteTime": {
     "end_time": "2025-05-17T15:38:56.227426Z",
     "start_time": "2025-05-17T15:38:56.220268Z"
    }
   },
   "cell_type": "code",
   "source": [
    "duplicates = df[df.duplicated(subset='market_ticker', keep=False)]\n",
    "\n",
    "if len(duplicates) > 0:\n",
    "    print(duplicates)\n",
    "else:\n",
    "    print(\"Successful data import.\")\n"
   ],
   "id": "e04c09e331c9d6a5",
   "outputs": [
    {
     "name": "stdout",
     "output_type": "stream",
     "text": [
      "Successful data import.\n"
     ]
    }
   ],
   "execution_count": 9
  },
  {
   "metadata": {},
   "cell_type": "markdown",
   "source": " The following cells search for 'Category' types and removes categories that do not fit our model. They also remove any non-active markets.",
   "id": "206f487d5ac13097"
  },
  {
   "metadata": {
    "ExecuteTime": {
     "end_time": "2025-05-17T15:39:06.392387Z",
     "start_time": "2025-05-17T15:39:06.388424Z"
    }
   },
   "cell_type": "code",
   "source": [
    "unique_categories = df['category'].unique()\n",
    "\n",
    "print(unique_categories)"
   ],
   "id": "ec1249451e21d269",
   "outputs": [
    {
     "name": "stdout",
     "output_type": "stream",
     "text": [
      "['Science and Technology' 'Politics' 'Elections' 'Climate and Weather'\n",
      " 'Economics' 'Sports' 'Health' 'Social' 'Companies' 'Entertainment'\n",
      " 'World' 'Financials' 'Education' 'Crypto' 'Transportation']\n"
     ]
    }
   ],
   "execution_count": 10
  },
  {
   "metadata": {
    "ExecuteTime": {
     "end_time": "2025-05-17T15:39:11.054643Z",
     "start_time": "2025-05-17T15:39:11.048521Z"
    }
   },
   "cell_type": "code",
   "source": [
    "# List of categories to keep\n",
    "categories_to_keep = [\n",
    "    'Politics', 'Social', 'Transportation',\n",
    "    'Science and Technology', 'Economics', 'Companies', 'Elections',\n",
    "    'Health', 'Financials', 'Climate and Weather', 'World'\n",
    "]\n",
    "\n",
    "filtered_df = df[df['category'].isin(categories_to_keep)]"
   ],
   "id": "4e392832fa5ea6ff",
   "outputs": [],
   "execution_count": 11
  },
  {
   "metadata": {
    "ExecuteTime": {
     "end_time": "2025-05-17T15:39:15.427216Z",
     "start_time": "2025-05-17T15:39:15.424142Z"
    }
   },
   "cell_type": "code",
   "source": [
    "unique_categories = df['market_status'].unique()\n",
    "\n",
    "print(unique_categories)"
   ],
   "id": "4b50ddf6298ca016",
   "outputs": [
    {
     "name": "stdout",
     "output_type": "stream",
     "text": [
      "['active' 'finalized' 'inactive' 'closed' 'settled' 'initialized']\n"
     ]
    }
   ],
   "execution_count": 12
  },
  {
   "metadata": {
    "ExecuteTime": {
     "end_time": "2025-05-17T15:39:34.729018Z",
     "start_time": "2025-05-17T15:39:34.722710Z"
    }
   },
   "cell_type": "code",
   "source": [
    "# List of market statuses to exclude\n",
    "statuses_to_exclude = ['finalized', 'inactive', 'closed', 'settled']\n",
    "\n",
    "# Filter out rows with these statuses\n",
    "filtered_df = filtered_df[~filtered_df['market_status'].isin(statuses_to_exclude)]"
   ],
   "id": "db3dbc92c9d42cf",
   "outputs": [],
   "execution_count": 13
  },
  {
   "metadata": {
    "ExecuteTime": {
     "end_time": "2025-05-17T15:39:36.416228Z",
     "start_time": "2025-05-17T15:39:36.412224Z"
    }
   },
   "cell_type": "code",
   "source": "filtered_df.shape",
   "id": "ed04c70bc5bbf035",
   "outputs": [
    {
     "data": {
      "text/plain": [
       "(3596, 54)"
      ]
     },
     "execution_count": 14,
     "metadata": {},
     "output_type": "execute_result"
    }
   ],
   "execution_count": 14
  },
  {
   "metadata": {
    "ExecuteTime": {
     "end_time": "2025-05-17T15:39:39.365149Z",
     "start_time": "2025-05-17T15:39:39.341252Z"
    }
   },
   "cell_type": "code",
   "source": "filtered_df.head()",
   "id": "b21e3753405295b8",
   "outputs": [
    {
     "data": {
      "text/plain": [
       "                                               title    sub_title  \\\n",
       "0  Will a humanoid robot walk on Mars before a hu...  Before 2035   \n",
       "1  Which of these Latin America leaders will leav...  Before 2035   \n",
       "2  Which of these Latin America leaders will leav...  Before 2035   \n",
       "3  Which of these Latin America leaders will leav...  Before 2035   \n",
       "4  Which of these Latin America leaders will leav...  Before 2035   \n",
       "\n",
       "                                market_rules_primary  \\\n",
       "0  If a humanoid robot walks on Mars before a hum...   \n",
       "1  If President of Venezuela is the first leader ...   \n",
       "2  If President of El Salvador is the first leade...   \n",
       "3  If the President of Brazil is the first leader...   \n",
       "4  If President of the Dominican Republic is the ...   \n",
       "\n",
       "                              market_rules_secondary          market_ticker  \\\n",
       "0                                                            KXROBOTMARS-35   \n",
       "1  An announcement that a leader will leave their...    KXLALEADEROUT-35-NM   \n",
       "2  An announcement that a leader will leave their...    KXLALEADEROUT-35-NB   \n",
       "3  An announcement that a leader will leave their...  KXLALEADEROUT-35-LULA   \n",
       "4  An announcement that a leader will leave their...    KXLALEADEROUT-35-LA   \n",
       "\n",
       "  market_event_ticker market_market_type market_title  \\\n",
       "0      KXROBOTMARS-35             binary                \n",
       "1    KXLALEADEROUT-35             binary                \n",
       "2    KXLALEADEROUT-35             binary                \n",
       "3    KXLALEADEROUT-35             binary                \n",
       "4    KXLALEADEROUT-35             binary                \n",
       "\n",
       "                          market_subtitle       market_yes_sub_title  ...  \\\n",
       "0                                                        Before 2035  ...   \n",
       "1               :: President of Venezuela             Nicolás Maduro  ...   \n",
       "2             :: President of El Salvador               Nayib Bukele  ...   \n",
       "3                  :: President of Brazil  Luiz Inácio Lula da Silva  ...   \n",
       "4  :: President of the Dominican Republic              Luis Abinader  ...   \n",
       "\n",
       "  event_series_ticker                                        event_title  \\\n",
       "0         KXROBOTMARS  Will a humanoid robot walk on Mars before a hu...   \n",
       "1       KXLALEADEROUT  Which of these Latin America leaders will leav...   \n",
       "2       KXLALEADEROUT  Which of these Latin America leaders will leav...   \n",
       "3       KXLALEADEROUT  Which of these Latin America leaders will leav...   \n",
       "4       KXLALEADEROUT  Which of these Latin America leaders will leav...   \n",
       "\n",
       "       event_ticker  series_ticker collateral_return_type mutually_exclusive  \\\n",
       "0    KXROBOTMARS-35    KXROBOTMARS                                     False   \n",
       "1  KXLALEADEROUT-35  KXLALEADEROUT                 MECNET               True   \n",
       "2  KXLALEADEROUT-35  KXLALEADEROUT                 MECNET               True   \n",
       "3  KXLALEADEROUT-35  KXLALEADEROUT                 MECNET               True   \n",
       "4  KXLALEADEROUT-35  KXLALEADEROUT                 MECNET               True   \n",
       "\n",
       "                 category                                            markets  \\\n",
       "0  Science and Technology  [{'ticker': 'KXROBOTMARS-35', 'event_ticker': ...   \n",
       "1                Politics  [{'ticker': 'KXLALEADEROUT-35-NM', 'event_tick...   \n",
       "2                Politics  [{'ticker': 'KXLALEADEROUT-35-NM', 'event_tick...   \n",
       "3                Politics  [{'ticker': 'KXLALEADEROUT-35-NM', 'event_tick...   \n",
       "4                Politics  [{'ticker': 'KXLALEADEROUT-35-NM', 'event_tick...   \n",
       "\n",
       "  strike_date  strike_period  \n",
       "0         NaN            NaN  \n",
       "1         NaN            NaN  \n",
       "2         NaN            NaN  \n",
       "3         NaN            NaN  \n",
       "4         NaN            NaN  \n",
       "\n",
       "[5 rows x 54 columns]"
      ],
      "text/html": [
       "<div>\n",
       "<style scoped>\n",
       "    .dataframe tbody tr th:only-of-type {\n",
       "        vertical-align: middle;\n",
       "    }\n",
       "\n",
       "    .dataframe tbody tr th {\n",
       "        vertical-align: top;\n",
       "    }\n",
       "\n",
       "    .dataframe thead th {\n",
       "        text-align: right;\n",
       "    }\n",
       "</style>\n",
       "<table border=\"1\" class=\"dataframe\">\n",
       "  <thead>\n",
       "    <tr style=\"text-align: right;\">\n",
       "      <th></th>\n",
       "      <th>title</th>\n",
       "      <th>sub_title</th>\n",
       "      <th>market_rules_primary</th>\n",
       "      <th>market_rules_secondary</th>\n",
       "      <th>market_ticker</th>\n",
       "      <th>market_event_ticker</th>\n",
       "      <th>market_market_type</th>\n",
       "      <th>market_title</th>\n",
       "      <th>market_subtitle</th>\n",
       "      <th>market_yes_sub_title</th>\n",
       "      <th>...</th>\n",
       "      <th>event_series_ticker</th>\n",
       "      <th>event_title</th>\n",
       "      <th>event_ticker</th>\n",
       "      <th>series_ticker</th>\n",
       "      <th>collateral_return_type</th>\n",
       "      <th>mutually_exclusive</th>\n",
       "      <th>category</th>\n",
       "      <th>markets</th>\n",
       "      <th>strike_date</th>\n",
       "      <th>strike_period</th>\n",
       "    </tr>\n",
       "  </thead>\n",
       "  <tbody>\n",
       "    <tr>\n",
       "      <th>0</th>\n",
       "      <td>Will a humanoid robot walk on Mars before a hu...</td>\n",
       "      <td>Before 2035</td>\n",
       "      <td>If a humanoid robot walks on Mars before a hum...</td>\n",
       "      <td></td>\n",
       "      <td>KXROBOTMARS-35</td>\n",
       "      <td>KXROBOTMARS-35</td>\n",
       "      <td>binary</td>\n",
       "      <td></td>\n",
       "      <td></td>\n",
       "      <td>Before 2035</td>\n",
       "      <td>...</td>\n",
       "      <td>KXROBOTMARS</td>\n",
       "      <td>Will a humanoid robot walk on Mars before a hu...</td>\n",
       "      <td>KXROBOTMARS-35</td>\n",
       "      <td>KXROBOTMARS</td>\n",
       "      <td></td>\n",
       "      <td>False</td>\n",
       "      <td>Science and Technology</td>\n",
       "      <td>[{'ticker': 'KXROBOTMARS-35', 'event_ticker': ...</td>\n",
       "      <td>NaN</td>\n",
       "      <td>NaN</td>\n",
       "    </tr>\n",
       "    <tr>\n",
       "      <th>1</th>\n",
       "      <td>Which of these Latin America leaders will leav...</td>\n",
       "      <td>Before 2035</td>\n",
       "      <td>If President of Venezuela is the first leader ...</td>\n",
       "      <td>An announcement that a leader will leave their...</td>\n",
       "      <td>KXLALEADEROUT-35-NM</td>\n",
       "      <td>KXLALEADEROUT-35</td>\n",
       "      <td>binary</td>\n",
       "      <td></td>\n",
       "      <td>:: President of Venezuela</td>\n",
       "      <td>Nicolás Maduro</td>\n",
       "      <td>...</td>\n",
       "      <td>KXLALEADEROUT</td>\n",
       "      <td>Which of these Latin America leaders will leav...</td>\n",
       "      <td>KXLALEADEROUT-35</td>\n",
       "      <td>KXLALEADEROUT</td>\n",
       "      <td>MECNET</td>\n",
       "      <td>True</td>\n",
       "      <td>Politics</td>\n",
       "      <td>[{'ticker': 'KXLALEADEROUT-35-NM', 'event_tick...</td>\n",
       "      <td>NaN</td>\n",
       "      <td>NaN</td>\n",
       "    </tr>\n",
       "    <tr>\n",
       "      <th>2</th>\n",
       "      <td>Which of these Latin America leaders will leav...</td>\n",
       "      <td>Before 2035</td>\n",
       "      <td>If President of El Salvador is the first leade...</td>\n",
       "      <td>An announcement that a leader will leave their...</td>\n",
       "      <td>KXLALEADEROUT-35-NB</td>\n",
       "      <td>KXLALEADEROUT-35</td>\n",
       "      <td>binary</td>\n",
       "      <td></td>\n",
       "      <td>:: President of El Salvador</td>\n",
       "      <td>Nayib Bukele</td>\n",
       "      <td>...</td>\n",
       "      <td>KXLALEADEROUT</td>\n",
       "      <td>Which of these Latin America leaders will leav...</td>\n",
       "      <td>KXLALEADEROUT-35</td>\n",
       "      <td>KXLALEADEROUT</td>\n",
       "      <td>MECNET</td>\n",
       "      <td>True</td>\n",
       "      <td>Politics</td>\n",
       "      <td>[{'ticker': 'KXLALEADEROUT-35-NM', 'event_tick...</td>\n",
       "      <td>NaN</td>\n",
       "      <td>NaN</td>\n",
       "    </tr>\n",
       "    <tr>\n",
       "      <th>3</th>\n",
       "      <td>Which of these Latin America leaders will leav...</td>\n",
       "      <td>Before 2035</td>\n",
       "      <td>If the President of Brazil is the first leader...</td>\n",
       "      <td>An announcement that a leader will leave their...</td>\n",
       "      <td>KXLALEADEROUT-35-LULA</td>\n",
       "      <td>KXLALEADEROUT-35</td>\n",
       "      <td>binary</td>\n",
       "      <td></td>\n",
       "      <td>:: President of Brazil</td>\n",
       "      <td>Luiz Inácio Lula da Silva</td>\n",
       "      <td>...</td>\n",
       "      <td>KXLALEADEROUT</td>\n",
       "      <td>Which of these Latin America leaders will leav...</td>\n",
       "      <td>KXLALEADEROUT-35</td>\n",
       "      <td>KXLALEADEROUT</td>\n",
       "      <td>MECNET</td>\n",
       "      <td>True</td>\n",
       "      <td>Politics</td>\n",
       "      <td>[{'ticker': 'KXLALEADEROUT-35-NM', 'event_tick...</td>\n",
       "      <td>NaN</td>\n",
       "      <td>NaN</td>\n",
       "    </tr>\n",
       "    <tr>\n",
       "      <th>4</th>\n",
       "      <td>Which of these Latin America leaders will leav...</td>\n",
       "      <td>Before 2035</td>\n",
       "      <td>If President of the Dominican Republic is the ...</td>\n",
       "      <td>An announcement that a leader will leave their...</td>\n",
       "      <td>KXLALEADEROUT-35-LA</td>\n",
       "      <td>KXLALEADEROUT-35</td>\n",
       "      <td>binary</td>\n",
       "      <td></td>\n",
       "      <td>:: President of the Dominican Republic</td>\n",
       "      <td>Luis Abinader</td>\n",
       "      <td>...</td>\n",
       "      <td>KXLALEADEROUT</td>\n",
       "      <td>Which of these Latin America leaders will leav...</td>\n",
       "      <td>KXLALEADEROUT-35</td>\n",
       "      <td>KXLALEADEROUT</td>\n",
       "      <td>MECNET</td>\n",
       "      <td>True</td>\n",
       "      <td>Politics</td>\n",
       "      <td>[{'ticker': 'KXLALEADEROUT-35-NM', 'event_tick...</td>\n",
       "      <td>NaN</td>\n",
       "      <td>NaN</td>\n",
       "    </tr>\n",
       "  </tbody>\n",
       "</table>\n",
       "<p>5 rows × 54 columns</p>\n",
       "</div>"
      ]
     },
     "execution_count": 15,
     "metadata": {},
     "output_type": "execute_result"
    }
   ],
   "execution_count": 15
  },
  {
   "metadata": {},
   "cell_type": "markdown",
   "source": "This cell saves all events that are `active` and categorized as 'Politics', 'Social', 'Transportation', 'Science and Technology', 'Economics', 'Companies', 'Elections', 'Health', 'Financials', 'Climate and Weather', or 'World' to a CSV file in the `data/outputs` directory.",
   "id": "99fcff06738fbac"
  },
  {
   "metadata": {},
   "cell_type": "code",
   "outputs": [],
   "execution_count": null,
   "source": "",
   "id": "1ac52aa9e98f0095"
  },
  {
   "metadata": {
    "ExecuteTime": {
     "end_time": "2025-05-17T20:55:21.683233Z",
     "start_time": "2025-05-17T20:55:20.850614Z"
    }
   },
   "cell_type": "code",
   "source": [
    "today = datetime.today().strftime('%Y-%m-%d')\n",
    "filtered_df.to_csv(f'data/output/1_market_extractor/events_{today}.csv', index=False)"
   ],
   "id": "3fcbda318d1c879b",
   "outputs": [],
   "execution_count": 34
  },
  {
   "metadata": {},
   "cell_type": "markdown",
   "source": "The following cell combines collected markets into tranches made up of Kalshi events.",
   "id": "21d7f1ba511a0eaf"
  },
  {
   "metadata": {
    "ExecuteTime": {
     "end_time": "2025-05-17T15:43:58.255122Z",
     "start_time": "2025-05-17T15:43:58.247573Z"
    }
   },
   "cell_type": "code",
   "source": [
    "# Select only the relevant columns and drop duplicate combinations\n",
    "unique_events = filtered_df[['market_event_ticker', 'event_title']].drop_duplicates()\n",
    "\n",
    "# Select only the rows from filtered_df that match the index of unique_event_titles\n",
    "rules_subset = filtered_df.loc[unique_events.index, ['market_rules_primary']]\n",
    "\n",
    "# Merge into features_df on index\n",
    "unique_events = unique_events.merge(rules_subset, left_index=True, right_index=True)\n",
    "\n",
    "unique_events.shape"
   ],
   "id": "5b56d3835219e8b2",
   "outputs": [
    {
     "data": {
      "text/plain": [
       "(877, 3)"
      ]
     },
     "execution_count": 20,
     "metadata": {},
     "output_type": "execute_result"
    }
   ],
   "execution_count": 20
  },
  {
   "metadata": {
    "ExecuteTime": {
     "end_time": "2025-05-17T15:43:59.359342Z",
     "start_time": "2025-05-17T15:43:59.353805Z"
    }
   },
   "cell_type": "code",
   "source": "unique_events.head()",
   "id": "3ff20961540e692b",
   "outputs": [
    {
     "data": {
      "text/plain": [
       "     market_event_ticker                                        event_title  \\\n",
       "0         KXROBOTMARS-35  Will a humanoid robot walk on Mars before a hu...   \n",
       "1       KXLALEADEROUT-35  Which of these Latin America leaders will leav...   \n",
       "11         KXBRUVSEAT-35  Will Andrew Tate's party win a seat in the nex...   \n",
       "12  KXAFRICALEADEROUT-35  Which of these African leaders will leave offi...   \n",
       "22             EUCLIMATE                   EU meets its 2030 climate goals?   \n",
       "\n",
       "                                 market_rules_primary  \n",
       "0   If a humanoid robot walks on Mars before a hum...  \n",
       "1   If President of Venezuela is the first leader ...  \n",
       "11  If Britain Restoring Underlying Values (\"BRUV\"...  \n",
       "12  If the President of Ghana is the first leader ...  \n",
       "22  If the EU has reduced greenhouse gas emissions...  "
      ],
      "text/html": [
       "<div>\n",
       "<style scoped>\n",
       "    .dataframe tbody tr th:only-of-type {\n",
       "        vertical-align: middle;\n",
       "    }\n",
       "\n",
       "    .dataframe tbody tr th {\n",
       "        vertical-align: top;\n",
       "    }\n",
       "\n",
       "    .dataframe thead th {\n",
       "        text-align: right;\n",
       "    }\n",
       "</style>\n",
       "<table border=\"1\" class=\"dataframe\">\n",
       "  <thead>\n",
       "    <tr style=\"text-align: right;\">\n",
       "      <th></th>\n",
       "      <th>market_event_ticker</th>\n",
       "      <th>event_title</th>\n",
       "      <th>market_rules_primary</th>\n",
       "    </tr>\n",
       "  </thead>\n",
       "  <tbody>\n",
       "    <tr>\n",
       "      <th>0</th>\n",
       "      <td>KXROBOTMARS-35</td>\n",
       "      <td>Will a humanoid robot walk on Mars before a hu...</td>\n",
       "      <td>If a humanoid robot walks on Mars before a hum...</td>\n",
       "    </tr>\n",
       "    <tr>\n",
       "      <th>1</th>\n",
       "      <td>KXLALEADEROUT-35</td>\n",
       "      <td>Which of these Latin America leaders will leav...</td>\n",
       "      <td>If President of Venezuela is the first leader ...</td>\n",
       "    </tr>\n",
       "    <tr>\n",
       "      <th>11</th>\n",
       "      <td>KXBRUVSEAT-35</td>\n",
       "      <td>Will Andrew Tate's party win a seat in the nex...</td>\n",
       "      <td>If Britain Restoring Underlying Values (\"BRUV\"...</td>\n",
       "    </tr>\n",
       "    <tr>\n",
       "      <th>12</th>\n",
       "      <td>KXAFRICALEADEROUT-35</td>\n",
       "      <td>Which of these African leaders will leave offi...</td>\n",
       "      <td>If the President of Ghana is the first leader ...</td>\n",
       "    </tr>\n",
       "    <tr>\n",
       "      <th>22</th>\n",
       "      <td>EUCLIMATE</td>\n",
       "      <td>EU meets its 2030 climate goals?</td>\n",
       "      <td>If the EU has reduced greenhouse gas emissions...</td>\n",
       "    </tr>\n",
       "  </tbody>\n",
       "</table>\n",
       "</div>"
      ]
     },
     "execution_count": 21,
     "metadata": {},
     "output_type": "execute_result"
    }
   ],
   "execution_count": 21
  },
  {
   "metadata": {},
   "cell_type": "markdown",
   "source": "The following cells begin feature extraction based off of the event title and the primary market rules.",
   "id": "4da4fb49b5b5bd1e"
  },
  {
   "metadata": {
    "ExecuteTime": {
     "end_time": "2025-05-17T15:48:00.812599Z",
     "start_time": "2025-05-17T15:47:56.785601Z"
    }
   },
   "cell_type": "code",
   "source": [
    "# Load the model; download if not already present\n",
    "try:\n",
    "    nlp = spacy.load(\"en_core_web_md\")\n",
    "    print(\"spaCy model 'en_core_web_md' is already installed.\")\n",
    "except OSError:\n",
    "    print(\"Downloading spaCy model 'en_core_web_md...\")\n",
    "    try:\n",
    "        # Install spaCy only (no transformers)\n",
    "        subprocess.run([sys.executable, \"-m\", \"pip\", \"install\", \"-U\", \"spacy\"], check=True)\n",
    "\n",
    "        # Download the medium English model\n",
    "        subprocess.run([sys.executable, \"-m\", \"spacy\", \"download\", \"en_core_web_md\"], check=True)\n",
    "\n",
    "        nlp = spacy.load(\"en_core_web_md\")\n",
    "        print(\"spaCy basic model loaded successfully!\")\n",
    "\n",
    "    except subprocess.CalledProcessError as e:\n",
    "        print(f\"Installation error: {e}\")\n",
    "    except Exception as e:\n",
    "        print(f\"Unexpected error: {e}\")"
   ],
   "id": "a78e5e8291ef44a3",
   "outputs": [
    {
     "name": "stdout",
     "output_type": "stream",
     "text": [
      "spaCy model 'en_core_web_md' is already installed.\n"
     ]
    }
   ],
   "execution_count": 29
  },
  {
   "metadata": {
    "ExecuteTime": {
     "end_time": "2025-05-17T15:48:10.060893Z",
     "start_time": "2025-05-17T15:48:02.231352Z"
    }
   },
   "cell_type": "code",
   "source": [
    "# Remove rows with missing or empty titles\n",
    "unique_event_titles = unique_event_titles[unique_event_titles['event_title'].notna()]\n",
    "unique_event_titles = unique_event_titles[unique_event_titles['event_title'].str.strip() != \"\"]\n",
    "\n",
    "def extract_features(event_title, market_rules_primary):\n",
    "    # Combine text safely\n",
    "    combined_text = f\"{event_title or ''}. {market_rules_primary or ''}\"\n",
    "    doc = nlp(combined_text)\n",
    "\n",
    "    # Get spans of date entities to exclude\n",
    "    date_spans = {ent.start for ent in doc.ents if ent.label_ == 'DATE'}\n",
    "\n",
    "    # Custom exclusions\n",
    "    custom_exclusions = {'resolve', 'yes'}\n",
    "\n",
    "    # Filter tokens\n",
    "    filtered_tokens = [\n",
    "        token for i, token in enumerate(doc)\n",
    "        if token.is_alpha and not token.is_stop and i not in date_spans\n",
    "    ]\n",
    "\n",
    "    # Deduplicated and normalized lemmas\n",
    "    lemmas_set = {\n",
    "        token.lemma_.lower()\n",
    "        for token in filtered_tokens\n",
    "        if token.lemma_.lower() not in custom_exclusions\n",
    "    }\n",
    "    normalized_lemmas = ' '.join(sorted(lemmas_set))\n",
    "\n",
    "    # Extract entity text values\n",
    "    entity_texts = [ent.text for ent in doc.ents]\n",
    "\n",
    "    return {\n",
    "        'lemmas': normalized_lemmas,\n",
    "        'named_entities': entity_texts\n",
    "    }\n",
    "\n",
    "# Apply the feature extraction to each row in your DataFrame\n",
    "features = unique_event_titles.apply(\n",
    "    lambda row: extract_features(row['event_title'], row['market_rules_primary']),\n",
    "    axis=1,\n",
    "    result_type='expand'\n",
    ")\n",
    "features_df = pd.concat([unique_event_titles, features], axis=1)\n",
    "\n",
    "# Reorder columns: 'title' and 'market_event_ticker' first\n",
    "cols = ['event_title', 'market_event_ticker'] + [col for col in features_df.columns if col not in ['event_title', 'market_event_ticker']]\n",
    "features_df = features_df[cols]"
   ],
   "id": "3526060fcb712baa",
   "outputs": [],
   "execution_count": 30
  },
  {
   "metadata": {
    "ExecuteTime": {
     "end_time": "2025-05-17T15:48:26.948103Z",
     "start_time": "2025-05-17T15:48:26.944808Z"
    }
   },
   "cell_type": "code",
   "source": "features_df.shape",
   "id": "b44ddb3b4b250684",
   "outputs": [
    {
     "data": {
      "text/plain": [
       "(877, 5)"
      ]
     },
     "execution_count": 31,
     "metadata": {},
     "output_type": "execute_result"
    }
   ],
   "execution_count": 31
  },
  {
   "metadata": {
    "ExecuteTime": {
     "end_time": "2025-05-17T15:48:32.297356Z",
     "start_time": "2025-05-17T15:48:32.291082Z"
    }
   },
   "cell_type": "code",
   "source": "features_df.head()",
   "id": "77c84b105531874e",
   "outputs": [
    {
     "data": {
      "text/plain": [
       "                                          event_title   market_event_ticker  \\\n",
       "0   Will a humanoid robot walk on Mars before a hu...        KXROBOTMARS-35   \n",
       "1   Which of these Latin America leaders will leav...      KXLALEADEROUT-35   \n",
       "11  Will Andrew Tate's party win a seat in the nex...         KXBRUVSEAT-35   \n",
       "12  Which of these African leaders will leave offi...  KXAFRICALEADEROUT-35   \n",
       "22                   EU meets its 2030 climate goals?             EUCLIMATE   \n",
       "\n",
       "                                 market_rules_primary  \\\n",
       "0   If a humanoid robot walks on Mars before a hum...   \n",
       "1   If President of Venezuela is the first leader ...   \n",
       "11  If Britain Restoring Underlying Values (\"BRUV\"...   \n",
       "12  If the President of Ghana is the first leader ...   \n",
       "22  If the EU has reduced greenhouse gas emissions...   \n",
       "\n",
       "                                               lemmas  \\\n",
       "0               human humanoid market mars robot walk   \n",
       "1   america latin leader leave market office presi...   \n",
       "11  andrew britain bruv commons election general h...   \n",
       "12  african ghana leader leave market office presi...   \n",
       "22  climate compare emission eu gas goal greenhous...   \n",
       "\n",
       "                                       named_entities  \n",
       "0                                  [Mars, Mars, 2035]  \n",
       "1                   [Latin America, Venezuela, first]  \n",
       "11  [Will Andrew Tate's, UK, Britain, BRUV, the Ho...  \n",
       "12                            [African, Ghana, first]  \n",
       "22                    [EU, 2030, EU, 55%, 1990, 2030]  "
      ],
      "text/html": [
       "<div>\n",
       "<style scoped>\n",
       "    .dataframe tbody tr th:only-of-type {\n",
       "        vertical-align: middle;\n",
       "    }\n",
       "\n",
       "    .dataframe tbody tr th {\n",
       "        vertical-align: top;\n",
       "    }\n",
       "\n",
       "    .dataframe thead th {\n",
       "        text-align: right;\n",
       "    }\n",
       "</style>\n",
       "<table border=\"1\" class=\"dataframe\">\n",
       "  <thead>\n",
       "    <tr style=\"text-align: right;\">\n",
       "      <th></th>\n",
       "      <th>event_title</th>\n",
       "      <th>market_event_ticker</th>\n",
       "      <th>market_rules_primary</th>\n",
       "      <th>lemmas</th>\n",
       "      <th>named_entities</th>\n",
       "    </tr>\n",
       "  </thead>\n",
       "  <tbody>\n",
       "    <tr>\n",
       "      <th>0</th>\n",
       "      <td>Will a humanoid robot walk on Mars before a hu...</td>\n",
       "      <td>KXROBOTMARS-35</td>\n",
       "      <td>If a humanoid robot walks on Mars before a hum...</td>\n",
       "      <td>human humanoid market mars robot walk</td>\n",
       "      <td>[Mars, Mars, 2035]</td>\n",
       "    </tr>\n",
       "    <tr>\n",
       "      <th>1</th>\n",
       "      <td>Which of these Latin America leaders will leav...</td>\n",
       "      <td>KXLALEADEROUT-35</td>\n",
       "      <td>If President of Venezuela is the first leader ...</td>\n",
       "      <td>america latin leader leave market office presi...</td>\n",
       "      <td>[Latin America, Venezuela, first]</td>\n",
       "    </tr>\n",
       "    <tr>\n",
       "      <th>11</th>\n",
       "      <td>Will Andrew Tate's party win a seat in the nex...</td>\n",
       "      <td>KXBRUVSEAT-35</td>\n",
       "      <td>If Britain Restoring Underlying Values (\"BRUV\"...</td>\n",
       "      <td>andrew britain bruv commons election general h...</td>\n",
       "      <td>[Will Andrew Tate's, UK, Britain, BRUV, the Ho...</td>\n",
       "    </tr>\n",
       "    <tr>\n",
       "      <th>12</th>\n",
       "      <td>Which of these African leaders will leave offi...</td>\n",
       "      <td>KXAFRICALEADEROUT-35</td>\n",
       "      <td>If the President of Ghana is the first leader ...</td>\n",
       "      <td>african ghana leader leave market office presi...</td>\n",
       "      <td>[African, Ghana, first]</td>\n",
       "    </tr>\n",
       "    <tr>\n",
       "      <th>22</th>\n",
       "      <td>EU meets its 2030 climate goals?</td>\n",
       "      <td>EUCLIMATE</td>\n",
       "      <td>If the EU has reduced greenhouse gas emissions...</td>\n",
       "      <td>climate compare emission eu gas goal greenhous...</td>\n",
       "      <td>[EU, 2030, EU, 55%, 1990, 2030]</td>\n",
       "    </tr>\n",
       "  </tbody>\n",
       "</table>\n",
       "</div>"
      ]
     },
     "execution_count": 32,
     "metadata": {},
     "output_type": "execute_result"
    }
   ],
   "execution_count": 32
  },
  {
   "metadata": {},
   "cell_type": "code",
   "outputs": [],
   "execution_count": null,
   "source": "",
   "id": "30f3e2dcec4445ae"
  }
 ],
 "metadata": {
  "kernelspec": {
   "display_name": "Python 3",
   "language": "python",
   "name": "python3"
  },
  "language_info": {
   "codemirror_mode": {
    "name": "ipython",
    "version": 2
   },
   "file_extension": ".py",
   "mimetype": "text/x-python",
   "name": "python",
   "nbconvert_exporter": "python",
   "pygments_lexer": "ipython2",
   "version": "2.7.6"
  }
 },
 "nbformat": 4,
 "nbformat_minor": 5
}
